{
 "cells": [
  {
   "cell_type": "markdown",
   "metadata": {
    "slideshow": {
     "slide_type": "slide"
    }
   },
   "source": [
    "# Python Tutorial \n",
    "Python is not “statically typed”. We do not need to declare variables before using them or declare their type. A variable is created the moment we first assign a value to it. A variable is a name given to a memory location. It is the basic unit of storage in a program.\n",
    "\n",
    "The value stored in a variable can be changed during program execution.\n",
    "A variable is only a name given to a memory location, all the operations done on the variable effects that memory location."
   ]
  },
  {
   "cell_type": "markdown",
   "metadata": {
    "slideshow": {
     "slide_type": "slide"
    }
   },
   "source": [
    "Rules for creating variables in Python:\n",
    "\n",
    "* A variable name must start with a letter or the underscore character.\n",
    "* A variable name cannot start with a number.\n",
    "* A variable name can only contain alpha-numeric characters and underscores (A-z, 0-9, and _ ).\n",
    "* Variable names are case-sensitive (name, Name and NAME are three different variables).\n",
    "* The reserved words(keywords) cannot be used naming the variable."
   ]
  },
  {
   "cell_type": "code",
   "execution_count": 11,
   "metadata": {
    "slideshow": {
     "slide_type": "slide"
    }
   },
   "outputs": [
    {
     "name": "stdout",
     "output_type": "stream",
     "text": [
      "45\n",
      "1456.8\n",
      "John\n"
     ]
    }
   ],
   "source": [
    "# Let’s see the simple variable creation:\n",
    "# An integer assignment\n",
    "age = 45\n",
    "  \n",
    "# A floating point\n",
    "salary = 1456.8\n",
    "  \n",
    "# A string\n",
    "name = \"John\"\n",
    "  \n",
    "print(age)\n",
    "print(salary)\n",
    "print(name)"
   ]
  },
  {
   "cell_type": "code",
   "execution_count": 12,
   "metadata": {
    "slideshow": {
     "slide_type": "slide"
    }
   },
   "outputs": [
    {
     "name": "stdout",
     "output_type": "stream",
     "text": [
      "100\n"
     ]
    }
   ],
   "source": [
    "#Let’s see how to declare the variable and print the variable.\n",
    "# # declaring the var\n",
    "Number = 100\n",
    "  \n",
    "# display\n",
    "print( Number)\n",
    "\n"
   ]
  },
  {
   "cell_type": "code",
   "execution_count": 13,
   "metadata": {
    "slideshow": {
     "slide_type": "slide"
    }
   },
   "outputs": [
    {
     "name": "stdout",
     "output_type": "stream",
     "text": [
      "Before declare:  100\n",
      "After re-declare: 120.3\n"
     ]
    }
   ],
   "source": [
    "# We can re-declare the python variable once we have declared the variable already.\n",
    "# declaring the var\n",
    "Number = 100\n",
    "  \n",
    "# display\n",
    "print(\"Before declare: \", Number)\n",
    "  \n",
    "# re-declare the var\n",
    "Number = 120.3\n",
    "    \n",
    "print(\"After re-declare:\", Number)"
   ]
  },
  {
   "cell_type": "code",
   "execution_count": 14,
   "metadata": {
    "slideshow": {
     "slide_type": "slide"
    }
   },
   "outputs": [
    {
     "name": "stdout",
     "output_type": "stream",
     "text": [
      "1\n",
      "20.2\n",
      "GeeksforGeeks\n"
     ]
    }
   ],
   "source": [
    "# Python allows adding different values in a single line with “,”operators.\n",
    "a, b, c = 1, 20.2, \"GeeksforGeeks\"\n",
    "  \n",
    "print(a)\n",
    "print(b)\n",
    "print(c)"
   ]
  },
  {
   "cell_type": "code",
   "execution_count": 15,
   "metadata": {
    "slideshow": {
     "slide_type": "slide"
    }
   },
   "outputs": [
    {
     "name": "stdout",
     "output_type": "stream",
     "text": [
      "Economics\n"
     ]
    }
   ],
   "source": [
    "# If we use the same name, the variable starts referring to a new value and type. \n",
    "a = 10\n",
    "a = \"Economics\"\n",
    "  \n",
    "print(a)"
   ]
  },
  {
   "cell_type": "code",
   "execution_count": 16,
   "metadata": {
    "slideshow": {
     "slide_type": "slide"
    }
   },
   "outputs": [
    {
     "name": "stdout",
     "output_type": "stream",
     "text": [
      "30\n",
      "MasteringMetrics\n"
     ]
    }
   ],
   "source": [
    "# How does + operator work with variables? \n",
    "a = 10\n",
    "b = 20\n",
    "print(a+b)\n",
    "  \n",
    "a = \"Mastering\"\n",
    "b = \"Metrics\"\n",
    "print(a+b)"
   ]
  },
  {
   "cell_type": "code",
   "execution_count": 17,
   "metadata": {
    "slideshow": {
     "slide_type": "slide"
    }
   },
   "outputs": [
    {
     "ename": "TypeError",
     "evalue": "unsupported operand type(s) for +: 'int' and 'str'",
     "output_type": "error",
     "traceback": [
      "\u001b[0;31m---------------------------------------------------------------------------\u001b[0m",
      "\u001b[0;31mTypeError\u001b[0m                                 Traceback (most recent call last)",
      "\u001b[0;32m<ipython-input-17-1381764c4fb9>\u001b[0m in \u001b[0;36m<module>\u001b[0;34m\u001b[0m\n\u001b[1;32m      1\u001b[0m \u001b[0ma\u001b[0m \u001b[0;34m=\u001b[0m \u001b[0;36m10\u001b[0m\u001b[0;34m\u001b[0m\u001b[0;34m\u001b[0m\u001b[0m\n\u001b[1;32m      2\u001b[0m \u001b[0mb\u001b[0m \u001b[0;34m=\u001b[0m \u001b[0;34m\"Geeks\"\u001b[0m\u001b[0;34m\u001b[0m\u001b[0;34m\u001b[0m\u001b[0m\n\u001b[0;32m----> 3\u001b[0;31m \u001b[0mprint\u001b[0m\u001b[0;34m(\u001b[0m\u001b[0ma\u001b[0m\u001b[0;34m+\u001b[0m\u001b[0mb\u001b[0m\u001b[0;34m)\u001b[0m\u001b[0;34m\u001b[0m\u001b[0;34m\u001b[0m\u001b[0m\n\u001b[0m",
      "\u001b[0;31mTypeError\u001b[0m: unsupported operand type(s) for +: 'int' and 'str'"
     ]
    }
   ],
   "source": [
    "a = 10\n",
    "b = \"Geeks\"\n",
    "print(a+b)"
   ]
  },
  {
   "cell_type": "markdown",
   "metadata": {
    "slideshow": {
     "slide_type": "slide"
    }
   },
   "source": [
    "# Python Data Types\n",
    "\n",
    "Data types are the classification or categorization of data items. It represents the kind of value that tells what operations can be performed on a particular data. Since everything is an object in Python programming, data types are actually classes and variables are instance (object) of these classes.\n",
    "\n",
    "Following are the standard or built-in data type of Python:\n"
   ]
  },
  {
   "cell_type": "markdown",
   "metadata": {
    "slideshow": {
     "slide_type": "slide"
    }
   },
   "source": [
    "## Numeric\n",
    "In Python, numeric data type represent the data which has numeric value. Numeric value can be integer, floating number or even complex numbers. These values are defined as int, float and complex class in Python.\n",
    "\n",
    "* Integers – This value is represented by int class. It contains positive or negative whole numbers (without fraction or decimal). In Python there is no limit to how long an integer value can be.\n",
    "* Float – This value is represented by float class. It is a real number with floating point representation. It is specified by a decimal point. Optionally, the character e or E followed by a positive or negative integer may be appended to specify scientific notation.\n",
    "* Complex Numbers – Complex number is represented by complex class. It is specified as (real part) + (imaginary part)j. For example – 2+3j"
   ]
  },
  {
   "cell_type": "code",
   "execution_count": 18,
   "metadata": {
    "slideshow": {
     "slide_type": "slide"
    }
   },
   "outputs": [
    {
     "name": "stdout",
     "output_type": "stream",
     "text": [
      "Type of a:  <class 'int'>\n",
      "\n",
      "Type of b:  <class 'float'>\n",
      "\n",
      "Type of c:  <class 'complex'>\n"
     ]
    }
   ],
   "source": [
    "# Python program to\n",
    "# demonstrate numeric value\n",
    "\n",
    "a = 5\n",
    "print(\"Type of a: \", type(a))\n",
    "\n",
    "b = 5.0\n",
    "print(\"\\nType of b: \", type(b))\n",
    "\n",
    "c = 2 + 4j\n",
    "print(\"\\nType of c: \", type(c))\n",
    "\n"
   ]
  },
  {
   "cell_type": "markdown",
   "metadata": {
    "slideshow": {
     "slide_type": "slide"
    }
   },
   "source": [
    "# Sequence Type\n",
    "In Python, sequence is the ordered collection of similar or different data types. Sequences allows to store multiple values in an organized and efficient fashion. There are several sequence types in Python –\n",
    "\n",
    "* String\n",
    "* List\n",
    "* Tuple\n",
    "\n",
    "### String\n",
    "In Python, Strings are arrays of bytes representing Unicode characters. A string is a collection of one or more characters put in a single quote, double-quote or triple quote. In python there is no character data type, a character is a string of length one. It is represented by str class.\n",
    " \n",
    "\n",
    "Creating String\n",
    "Strings in Python can be created using single quotes or double quotes or even triple quotes."
   ]
  },
  {
   "cell_type": "code",
   "execution_count": 23,
   "metadata": {
    "slideshow": {
     "slide_type": "slide"
    }
   },
   "outputs": [
    {
     "name": "stdout",
     "output_type": "stream",
     "text": [
      "String with the use of Single Quotes: \n",
      "Welcome to the Econ590\n",
      "\n",
      "String with the use of Double Quotes: \n",
      "I'm a Economist\n",
      "<class 'str'>\n",
      "\n",
      "String with the use of Triple Quotes: \n",
      "I'm a Geek and I live in a world of \"Geeks\"\n",
      "<class 'str'>\n",
      "\n",
      "Creating a multiline String: \n",
      "Geeks For Life\n",
      "sasas\n"
     ]
    }
   ],
   "source": [
    "# Python Program for\n",
    "# Creation of String\n",
    "\n",
    "# Creating a String\n",
    "# with single Quotes\n",
    "String1 = 'Welcome to the Econ590'\n",
    "print(\"String with the use of Single Quotes: \")\n",
    "print(String1)\n",
    "\n",
    "# Creating a String\n",
    "# with double Quotes\n",
    "String1 = \"I'm a Economist\"\n",
    "print(\"\\nString with the use of Double Quotes: \")\n",
    "print(String1)\n",
    "print(type(String1))\n",
    "\n",
    "# Creating a String\n",
    "# with triple Quotes\n",
    "String1 = '''I'm a Economist'''\n",
    "print(\"\\nString with the use of Triple Quotes: \")\n",
    "print(String1)\n",
    "print(type(String1))\n",
    "\n",
    "# Creating String with triple\n",
    "# Quotes allows multiple lines\n",
    "String1 = '''I'm a Economist'''\n",
    "print(\"\\nCreating a multiline String: \")\n",
    "print(String1)\n",
    "\n"
   ]
  },
  {
   "cell_type": "markdown",
   "metadata": {
    "slideshow": {
     "slide_type": "slide"
    }
   },
   "source": [
    "###  Accessing elements of String\n",
    "In Python, individual characters of a String can be accessed by using the method of Indexing. Indexing allows negative address references to access characters from the back of the String, e.g. -1 refers to the last character, -2 refers to the second last character and so on."
   ]
  },
  {
   "cell_type": "code",
   "execution_count": 24,
   "metadata": {
    "slideshow": {
     "slide_type": "slide"
    }
   },
   "outputs": [
    {
     "name": "stdout",
     "output_type": "stream",
     "text": [
      "Initial String: \n",
      "Machine Learning\n",
      "\n",
      "First character of String is: \n",
      "M\n",
      "\n",
      "Last character of String is: \n",
      "g\n"
     ]
    }
   ],
   "source": [
    "# Python Program to Access characters of String\n",
    "\n",
    "String1 = \"Machine Learning\"\n",
    "print(\"Initial String: \")\n",
    "print(String1)\n",
    "\n",
    "# Printing First character\n",
    "print(\"\\nFirst character of String is: \")\n",
    "print(String1[0])\n",
    "\n",
    "# Printing Last character\n",
    "print(\"\\nLast character of String is: \")\n",
    "print(String1[-1])\n",
    "\n"
   ]
  },
  {
   "cell_type": "markdown",
   "metadata": {
    "slideshow": {
     "slide_type": "slide"
    }
   },
   "source": [
    "## List\n",
    "Lists are just like the arrays, declared in other languages which is a ordered collection of data. It is very flexible as the items in a list do not need to be of the same type.\n",
    " \n",
    "\n",
    "Creating List\n",
    "Lists in Python can be created by just placing the sequence inside the square brackets[]."
   ]
  },
  {
   "cell_type": "code",
   "execution_count": 29,
   "metadata": {
    "slideshow": {
     "slide_type": "slide"
    }
   },
   "outputs": [
    {
     "name": "stdout",
     "output_type": "stream",
     "text": [
      "Initial blank List: \n",
      "[]\n",
      "\n",
      "List with the use of String: \n",
      "['Machine Learning']\n",
      "\n",
      "List containing multiple values: \n",
      "['Econ', 'Economics', 'Econometrics']\n",
      "\n",
      "Multi-Dimensional List: \n",
      "[['Econ590', 'Machine Learning'], ['Economics']]\n"
     ]
    }
   ],
   "source": [
    "# Creating a List\n",
    "List = []\n",
    "print(\"Initial blank List: \")\n",
    "print(List)\n",
    "\n",
    "# Creating a List with\n",
    "# the use of a String\n",
    "List = ['Machine Learning']\n",
    "print(\"\\nList with the use of String: \")\n",
    "print(List)\n",
    "\n",
    "# Creating a List with\n",
    "# the use of multiple values\n",
    "List = [\"Econ\", \"Economics\", \"Econometrics\"]\n",
    "print(\"\\nList containing multiple values: \")\n",
    "print(List)\n",
    "\n",
    "\n",
    "# Creating a Multi-Dimensional List\n",
    "# (By Nesting a list inside a List)\n",
    "List = [['Econ590', 'Machine Learning'], ['Economics']]\n",
    "print(\"\\nMulti-Dimensional List: \")\n",
    "print(List)"
   ]
  },
  {
   "cell_type": "markdown",
   "metadata": {
    "slideshow": {
     "slide_type": "slide"
    }
   },
   "source": [
    "### Accessing elements of List\n",
    "In order to access the list items refer to the index number. Use the index operator [ ] to access an item in a list. In Python, negative sequence indexes represent positions from the end of the array. Instead of having to compute the offset as in List[len(List)-3], it is enough to just write List[-3]. Negative indexing means beginning from the end, -1 refers to the last item, -2 refers to the second-last item, etc."
   ]
  },
  {
   "cell_type": "code",
   "execution_count": 28,
   "metadata": {
    "slideshow": {
     "slide_type": "slide"
    }
   },
   "outputs": [
    {
     "name": "stdout",
     "output_type": "stream",
     "text": [
      "Accessing element from the list\n",
      "Machine\n",
      "Engineering\n",
      "Accessing element using negative indexing\n",
      "Engineering\n",
      "Machine\n"
     ]
    }
   ],
   "source": [
    "# Python program to demonstrate\n",
    "# accessing of element from list\n",
    "\n",
    "# Creating a List with\n",
    "# the use of multiple values\n",
    "List = [\"Machine\", \"Learning\", \"Engineering\"]\n",
    "\n",
    "# accessing a element from the\n",
    "# list using index number\n",
    "print(\"Accessing element from the list\")\n",
    "print(List[0])\n",
    "print(List[2])\n",
    "\n",
    "# accessing a element using\n",
    "# negative indexing\n",
    "print(\"Accessing element using negative indexing\")\n",
    "\n",
    "# print the last element of list\n",
    "print(List[-1])\n",
    "\n",
    "# print the third last element of list\n",
    "print(List[-3])"
   ]
  },
  {
   "cell_type": "markdown",
   "metadata": {
    "slideshow": {
     "slide_type": "slide"
    }
   },
   "source": [
    "## Boolean\n",
    "Data type with one of the two built-in values, True or False. Boolean objects that are equal to True are truthy (true), and those equal to False are falsy (false). But non-Boolean objects can be evaluated in Boolean context as well and determined to be true or false. It is denoted by the class bool.\n",
    "\n",
    "Note – True and False with capital ‘T’ and ‘F’ are valid booleans otherwise python will throw an error."
   ]
  },
  {
   "cell_type": "code",
   "execution_count": 32,
   "metadata": {
    "slideshow": {
     "slide_type": "slide"
    }
   },
   "outputs": [
    {
     "name": "stdout",
     "output_type": "stream",
     "text": [
      "<class 'bool'>\n",
      "<class 'bool'>\n"
     ]
    },
    {
     "ename": "NameError",
     "evalue": "name 'true' is not defined",
     "output_type": "error",
     "traceback": [
      "\u001b[0;31m---------------------------------------------------------------------------\u001b[0m",
      "\u001b[0;31mNameError\u001b[0m                                 Traceback (most recent call last)",
      "\u001b[0;32m<ipython-input-32-00916bad9a91>\u001b[0m in \u001b[0;36m<module>\u001b[0;34m\u001b[0m\n\u001b[1;32m      5\u001b[0m \u001b[0mprint\u001b[0m\u001b[0;34m(\u001b[0m\u001b[0mtype\u001b[0m\u001b[0;34m(\u001b[0m\u001b[0;32mFalse\u001b[0m\u001b[0;34m)\u001b[0m\u001b[0;34m)\u001b[0m\u001b[0;34m\u001b[0m\u001b[0;34m\u001b[0m\u001b[0m\n\u001b[1;32m      6\u001b[0m \u001b[0;34m\u001b[0m\u001b[0m\n\u001b[0;32m----> 7\u001b[0;31m \u001b[0mprint\u001b[0m\u001b[0;34m(\u001b[0m\u001b[0mtype\u001b[0m\u001b[0;34m(\u001b[0m\u001b[0mtrue\u001b[0m\u001b[0;34m)\u001b[0m\u001b[0;34m)\u001b[0m\u001b[0;34m\u001b[0m\u001b[0;34m\u001b[0m\u001b[0m\n\u001b[0m\u001b[1;32m      8\u001b[0m \u001b[0;34m\u001b[0m\u001b[0m\n",
      "\u001b[0;31mNameError\u001b[0m: name 'true' is not defined"
     ]
    }
   ],
   "source": [
    "# Python program to\n",
    "# demonstrate boolean type\n",
    "\n",
    "print(type(True))\n",
    "print(type(False))\n",
    "\n",
    "print(type(true))\n",
    "\n"
   ]
  },
  {
   "cell_type": "markdown",
   "metadata": {
    "slideshow": {
     "slide_type": "slide"
    }
   },
   "source": [
    "## Dictionary\n",
    "Dictionary in Python is an unordered collection of data values, used to store data values like a map, which unlike other Data Types that hold only single value as an element, Dictionary holds key:value pair. Key-value is provided in the dictionary to make it more optimized. Each key-value pair in a Dictionary is separated by a colon :, whereas each key is separated by a ‘comma’.\n",
    "\n",
    "### Creating Dictionary\n",
    "In Python, a Dictionary can be created by placing a sequence of elements within curly {} braces, separated by ‘comma’. Values in a dictionary can be of any datatype and can be duplicated, whereas keys can’t be repeated and must be immutable. Dictionary can also be created by the built-in function dict(). An empty dictionary can be created by just placing it to curly braces{}.\n",
    "\n",
    "Note – Dictionary keys are case sensitive, same name but different cases of Key will be treated distinctly."
   ]
  },
  {
   "cell_type": "code",
   "execution_count": 35,
   "metadata": {
    "slideshow": {
     "slide_type": "slide"
    }
   },
   "outputs": [
    {
     "name": "stdout",
     "output_type": "stream",
     "text": [
      "Empty Dictionary: \n",
      "{}\n",
      "\n",
      "Dictionary with the use of Integer Keys: \n",
      "{1: 'Machine Learning', 2: 'Stat', 3: 'Regression'}\n",
      "\n",
      "Dictionary with the use of Mixed Keys: \n",
      "{'Name': 'Machine Learning', 1: [1, 2, 3, 4]}\n",
      "\n",
      "Dictionary with the use of dict(): \n",
      "{1: 'Machine Learning', 2: 'Stat', 3: 'Regression'}\n",
      "\n",
      "Dictionary with each item as a pair: \n",
      "{1: 'Machine Learning', 2: 'Stat'}\n"
     ]
    }
   ],
   "source": [
    "# Creating an empty Dictionary\n",
    "Dict = {}\n",
    "print(\"Empty Dictionary: \")\n",
    "print(Dict)\n",
    "\n",
    "# Creating a Dictionary\n",
    "# with Integer Keys\n",
    "Dict = {1: 'Machine Learning', 2: 'Stat', 3: 'Regression'}\n",
    "print(\"\\nDictionary with the use of Integer Keys: \")\n",
    "print(Dict)\n",
    "\n",
    "# Creating a Dictionary\n",
    "# with Mixed keys\n",
    "Dict = {'Name': 'Machine Learning', 1: [1, 2, 3, 4]}\n",
    "print(\"\\nDictionary with the use of Mixed Keys: \")\n",
    "print(Dict)\n",
    "\n",
    "# Creating a Dictionary\n",
    "# with dict() method\n",
    "Dict = dict({1: 'Machine Learning', 2: 'Stat', 3:'Regression'})\n",
    "print(\"\\nDictionary with the use of dict(): \")\n",
    "print(Dict)\n",
    "\n",
    "# Creating a Dictionary\n",
    "# with each item as a Pair\n",
    "Dict = dict([(1, 'Machine Learning'), (2, 'Stat')])\n",
    "print(\"\\nDictionary with each item as a pair: \")\n",
    "print(Dict)"
   ]
  },
  {
   "cell_type": "markdown",
   "metadata": {
    "slideshow": {
     "slide_type": "slide"
    }
   },
   "source": [
    "## Accessing elements of Dictionary\n",
    "In order to access the items of a dictionary refer to its key name. Key can be used inside square brackets. There is also a method called get() that will also help in accessing the element from a dictionary"
   ]
  },
  {
   "cell_type": "code",
   "execution_count": 40,
   "metadata": {
    "slideshow": {
     "slide_type": "slide"
    }
   },
   "outputs": [
    {
     "name": "stdout",
     "output_type": "stream",
     "text": [
      "Accessing a element using key:\n",
      "Matt\n",
      "Accessing a element using get:\n",
      "Adam\n"
     ]
    }
   ],
   "source": [
    "# Python program to demonstrate accessing a element from a Dictionary\n",
    "\n",
    "# Creating a Dictionary\n",
    "Dict = {1: 'Peter', 'name': 'Matt', 3: 'Adam'}\n",
    "\n",
    "# accessing a element using key\n",
    "print(\"Accessing a element using key:\")\n",
    "print(Dict['name'])\n",
    "\n",
    "# accessing a element using get()\n",
    "# method\n",
    "print(\"Accessing a element using get:\")\n",
    "print(Dict.get(3))\n"
   ]
  },
  {
   "cell_type": "markdown",
   "metadata": {},
   "source": [
    "# Conditionals\n",
    "## if , if..else, Nested if, if-elif statements\n",
    "\n",
    "If the simple code of block is to be performed if the condition holds true then if statement is used. Here the condition mentioned holds true then the code of block runs otherwise not."
   ]
  },
  {
   "cell_type": "code",
   "execution_count": 42,
   "metadata": {},
   "outputs": [
    {
     "name": "stdout",
     "output_type": "stream",
     "text": [
      "10 greater than 5\n",
      "Program ended\n"
     ]
    }
   ],
   "source": [
    "# if statement example\n",
    "if 10 > 5:\n",
    "    print(\"10 greater than 5\")\n",
    "\n",
    "print(\"Program ended\")\n",
    "\n"
   ]
  },
  {
   "cell_type": "markdown",
   "metadata": {},
   "source": [
    "### if..else Statement\n",
    "In conditional if Statement the additional block of code is merged as else statement which is performed when if condition is false. "
   ]
  },
  {
   "cell_type": "code",
   "execution_count": 44,
   "metadata": {},
   "outputs": [
    {
     "name": "stdout",
     "output_type": "stream",
     "text": [
      "No\n"
     ]
    }
   ],
   "source": [
    "# if..else statement example\n",
    "x = 3\n",
    "if x == 4:\n",
    "    print(\"Yes\")\n",
    "else:\n",
    "    print(\"No\")\n",
    "\n"
   ]
  },
  {
   "cell_type": "code",
   "execution_count": 47,
   "metadata": {},
   "outputs": [
    {
     "name": "stdout",
     "output_type": "stream",
     "text": [
      "letter is A\n"
     ]
    }
   ],
   "source": [
    "# if..else chain statement\n",
    "letter = \"A\"\n",
    "\n",
    "if letter == \"B\":\n",
    "    print(\"letter is B\")\n",
    "\n",
    "else:\n",
    "    if letter == \"C\":\n",
    "        print(\"letter is C\")\n",
    "    else:\n",
    "        if letter == \"A\":\n",
    "            print(\"letter is A\")\n",
    "        else:\n",
    "            print(\"letter isn't A, B and C\")\n",
    "\n"
   ]
  },
  {
   "cell_type": "markdown",
   "metadata": {},
   "source": [
    "### Nested if Statement\n",
    "if statement can also be checked inside other if statement. This conditional statement is called a nested if statement. This means that inner if condition will be checked only if outer if condition is true and by this, we can see multiple conditions to be satisfied."
   ]
  },
  {
   "cell_type": "code",
   "execution_count": 51,
   "metadata": {},
   "outputs": [
    {
     "name": "stdout",
     "output_type": "stream",
     "text": [
      "Bigger than 5\n",
      "Between 5 and 15\n"
     ]
    }
   ],
   "source": [
    "# Nested if statement example\n",
    "num = 10\n",
    "\n",
    "if num > 5:\n",
    "    print(\"Bigger than 5\")\n",
    "\n",
    "    if num <= 15:\n",
    "        print(\"Between 5 and 15\")\n",
    "\n"
   ]
  },
  {
   "cell_type": "markdown",
   "metadata": {},
   "source": [
    "### if-elif Statement\n",
    "The if-elif statement is shoutcut of if..else chain. While using if-elif statement at the end else block is added which is performed if none of the above if-elif statement is true."
   ]
  },
  {
   "cell_type": "code",
   "execution_count": 58,
   "metadata": {},
   "outputs": [
    {
     "name": "stdout",
     "output_type": "stream",
     "text": [
      "letter is A\n"
     ]
    }
   ],
   "source": [
    "# if-elif statement example\n",
    "letter = \"A\"\n",
    "\n",
    "if letter == \"B\":\n",
    "    print(\"letter is B\")\n",
    "elif letter == \"C\":\n",
    "    print(\"letter is C\")    \n",
    "elif letter == \"A\":\n",
    "    print(\"letter is A\")\n",
    "else:\n",
    "    print(\"letter isn't A, B or C\")\n"
   ]
  },
  {
   "cell_type": "markdown",
   "metadata": {},
   "source": [
    "# for Loops \n",
    "Python For loops is used for sequential traversal i.e. it is used for iterating over an iterable like string, tuple, list, etc. It falls under the category of definite iteration. Definite iterations mean the number of repetitions is specified explicitly in advance. In Python, there is no C style for loop, i.e., for (i=0; i<n; i++). There is “for in” loop which is similar to for each loop in other languages. Let us learn how to use for in loop for sequential traversals."
   ]
  },
  {
   "cell_type": "code",
   "execution_count": 90,
   "metadata": {},
   "outputs": [
    {
     "name": "stdout",
     "output_type": "stream",
     "text": [
      "List Iteration\n",
      "Machine Learning\n",
      "for\n",
      "Economists\n",
      "\n",
      "String Iteration\n",
      "E\n",
      "c\n",
      "o\n",
      "n\n",
      "\n",
      "Dictionary Iteration\n",
      "xyz  123\n",
      "abc  345\n"
     ]
    }
   ],
   "source": [
    "# Python program to illustrate\n",
    "# Iterating over a list\n",
    "print(\"List Iteration\")\n",
    "l = [\"Machine Learning\", \"for\", \"Economists\"]\n",
    "for i in l:\n",
    "    print(i)\n",
    "\n",
    "# Iterating over a String\n",
    "print(\"\\nString Iteration\")\n",
    "s = \"Econ\"\n",
    "for i in s:\n",
    "    print(i)\n",
    "\n",
    "# Iterating over dictionary\n",
    "print(\"\\nDictionary Iteration\")\n",
    "d = dict()\n",
    "d['xyz'] = 123\n",
    "d['abc'] = 345\n",
    "for i in d:\n",
    "    print(\"% s % d\" % (i, d[i]))\n",
    "\n"
   ]
  },
  {
   "cell_type": "markdown",
   "metadata": {},
   "source": [
    "## Loop Control Statements\n",
    "Loop control statements change execution from its normal sequence. When execution leaves a scope,  all automatic objects that were created in that scope are destroyed. Python supports the following  control statements."
   ]
  },
  {
   "cell_type": "code",
   "execution_count": 91,
   "metadata": {},
   "outputs": [
    {
     "name": "stdout",
     "output_type": "stream",
     "text": [
      "Current Letter : c\n",
      "Current Letter : n\n",
      "Current Letter : m\n",
      "Current Letter : i\n",
      "Current Letter : c\n",
      "Current Letter : s\n"
     ]
    }
   ],
   "source": [
    "# Prints all letters except 'e' and 'o'\n",
    "for letter in 'economics':\n",
    "    if letter == 'e' or letter == 'o':\n",
    "        continue\n",
    "    print('Current Letter :', letter)"
   ]
  },
  {
   "cell_type": "markdown",
   "metadata": {},
   "source": [
    "### Break Statement\n",
    "\n",
    "Python break statement brings control out of the loop."
   ]
  },
  {
   "cell_type": "code",
   "execution_count": 80,
   "metadata": {},
   "outputs": [
    {
     "name": "stdout",
     "output_type": "stream",
     "text": [
      "Current Letter : e\n"
     ]
    }
   ],
   "source": [
    "for letter in 'geeksforgeeks':\n",
    "# break the loop as soon it sees 'e'\n",
    "# or 's'\n",
    "    if letter == 'e' or letter == 's':\n",
    "        break\n",
    "\n",
    "print('Current Letter :', letter)\n",
    "\n"
   ]
  },
  {
   "cell_type": "markdown",
   "metadata": {},
   "source": [
    "### Pass Statement\n",
    "\n",
    "The pass statement to write empty loops. Pass is also used for empty control statements, functions, and classes."
   ]
  },
  {
   "cell_type": "code",
   "execution_count": 83,
   "metadata": {},
   "outputs": [
    {
     "name": "stdout",
     "output_type": "stream",
     "text": [
      "Last Letter : s\n"
     ]
    }
   ],
   "source": [
    "# An empty loop\n",
    "for letter in 'economics':\n",
    "    pass\n",
    "print('Last Letter :', letter)\n",
    "\n"
   ]
  },
  {
   "cell_type": "markdown",
   "metadata": {},
   "source": [
    "### range() function\n",
    "\n",
    "Python range() is a built-in function that is used when a user needs to perform an action a specific number of times. range() in Python(3.x) is just a renamed version of a function called xrange() in Python(2.x). The range() function is used to generate a sequence of numbers. Depending on how many arguments user is passing to the function, user can decide where that series of numbers will begin and end as well as how big the difference will be between one number and the next.range() takes mainly three arguments. \n",
    "\n",
    "start: integer starting from which the sequence of integers is to be returned\n",
    "stop: integer before which the sequence of integers is to be returned. \n",
    "The range of integers end at stop – 1.\n",
    "step: integer value which determines the increment between each integer in the sequence "
   ]
  },
  {
   "cell_type": "code",
   "execution_count": 92,
   "metadata": {},
   "outputs": [
    {
     "name": "stdout",
     "output_type": "stream",
     "text": [
      "0 1 2 3 4 5 6 7 8 9 10 20 30 40 \n",
      "Sum of first 10 numbers : 45\n"
     ]
    }
   ],
   "source": [
    "# Python Program to\n",
    "# show range() basics\n",
    "\n",
    "# printing a number\n",
    "for i in range(10):\n",
    "    print(i, end=\" \")\n",
    "print()\n",
    "\n",
    "# using range for iteration\n",
    "l = [10, 20, 30, 40]\n",
    "for i in range(len(l)):\n",
    "    print(l[i], end=\" \")\n",
    "print()\n",
    "\n",
    "# performing sum of first 10 numbers\n",
    "sum = 0\n",
    "for i in range(1, 10):\n",
    "    sum = sum + i\n",
    "print(\"Sum of first 10 numbers :\", sum)\n",
    "\n"
   ]
  },
  {
   "cell_type": "markdown",
   "metadata": {},
   "source": [
    "## Python for loop with else\n",
    "In most of the programming languages (C/C++, Java, etc), the use of else statements has been restricted with the if conditional statements. But Python also allows us to use the else condition with for loops. \n",
    "\n",
    "Note: The else block just after for/while is executed only when the loop is NOT terminated by a break statement "
   ]
  },
  {
   "cell_type": "code",
   "execution_count": 85,
   "metadata": {},
   "outputs": [
    {
     "name": "stdout",
     "output_type": "stream",
     "text": [
      "1\n",
      "2\n",
      "3\n",
      "No Break\n",
      "\n",
      "1\n"
     ]
    }
   ],
   "source": [
    "# Python program to demonstrate\n",
    "# for-else loop\n",
    "\n",
    "for i in range(1, 4):\n",
    "    print(i)\n",
    "else: # Executed because no break in for\n",
    "    print(\"No Break\\n\")\n",
    "\n",
    "for i in range(1, 4):\n",
    "    print(i)\n",
    "    break\n",
    "else: # Not executed as there is a break\n",
    "    print(\"No Break\")\n",
    "\n"
   ]
  },
  {
   "cell_type": "markdown",
   "metadata": {},
   "source": [
    "## Python – List Comprehension\n",
    "\n",
    "Python is renowned for encouraging developers and programmers to write efficient, easy-to-understand, and almost as simple-to-read code. One of the most distinctive aspects of the language is the python list and the list compression feature, which one can use within a single line of code to construct powerful functionality.\n",
    "\n",
    "List comprehensions are used for creating new lists from other iterables like tuples, strings, arrays, lists, etc. A list comprehension consists of brackets containing the expression, which is executed for each element along with the for loop to iterate over each element. "
   ]
  },
  {
   "cell_type": "markdown",
   "metadata": {},
   "source": [
    "Syntax:\n",
    "\n",
    "newList = [ expression(element) for element in oldList if condition ] "
   ]
  },
  {
   "cell_type": "code",
   "execution_count": 86,
   "metadata": {},
   "outputs": [
    {
     "name": "stdout",
     "output_type": "stream",
     "text": [
      "['M', 'a', 'c', 'h', 'i', 'n', 'e', ' ', 'L', 'e', 'a', 'r', 'n', 'i', 'n', 'g', '!']\n"
     ]
    }
   ],
   "source": [
    "# Empty list\n",
    "List = []\n",
    "\n",
    "# Traditional approach of iterating\n",
    "for character in 'Machine Learning!':\n",
    "    List.append(character)\n",
    "\n",
    "# Display list\n",
    "print(List)"
   ]
  },
  {
   "cell_type": "markdown",
   "metadata": {},
   "source": [
    "Above is the implementation of the traditional approach to iterate through a list, string, tuple, etc. Now list comprehension does the same task and also makes the program more simple. \n",
    "\n",
    "List Comprehensions translate the traditional iteration approach using for loop into a simple formula hence making them easy to use. Below is the approach to iterate through a list, string, tuple, etc. using list comprehension."
   ]
  },
  {
   "cell_type": "code",
   "execution_count": 87,
   "metadata": {},
   "outputs": [
    {
     "name": "stdout",
     "output_type": "stream",
     "text": [
      "['M', 'a', 'c', 'h', 'i', 'n', 'e', ' ', 'L', 'e', 'a', 'r', 'n', 'i', 'n', 'g', '!']\n"
     ]
    }
   ],
   "source": [
    "# Using list comprehension to iterate through loop\n",
    "List = [character for character in 'Machine Learning!']\n",
    "\n",
    "# Displaying list\n",
    "print(List)\n",
    "\n"
   ]
  },
  {
   "cell_type": "markdown",
   "metadata": {},
   "source": [
    "### Nested List Comprehensions\n",
    "Nested List Comprehensions are nothing but a list comprehension within another list comprehension which is quite similar to nested for loops. Below is the program which implements nested loop:"
   ]
  },
  {
   "cell_type": "code",
   "execution_count": 88,
   "metadata": {},
   "outputs": [
    {
     "name": "stdout",
     "output_type": "stream",
     "text": [
      "[[0, 1, 2, 3, 4], [0, 1, 2, 3, 4], [0, 1, 2, 3, 4]]\n"
     ]
    }
   ],
   "source": [
    "matrix = []\n",
    "\n",
    "for i in range(3):\n",
    "    # Append an empty sublist inside the list\n",
    "    matrix.append([])\n",
    "    for j in range(5):\n",
    "        matrix[i].append(j)\n",
    "print(matrix)"
   ]
  },
  {
   "cell_type": "code",
   "execution_count": 89,
   "metadata": {},
   "outputs": [
    {
     "name": "stdout",
     "output_type": "stream",
     "text": [
      "[[0, 1, 2, 3, 4], [0, 1, 2, 3, 4], [0, 1, 2, 3, 4]]\n"
     ]
    }
   ],
   "source": [
    "# Nested list comprehension\n",
    "matrix = [[j for j in range(5)] for i in range(3)]\n",
    "\n",
    "print(matrix)\n",
    "\n"
   ]
  },
  {
   "cell_type": "markdown",
   "metadata": {},
   "source": [
    "### List Comprehensions and Lambda\n",
    "Lambda Expressions are nothing but shorthand representations of Python functions. Using list comprehensions with lambda creates an efficient combination. Let us look at the below examples:"
   ]
  },
  {
   "cell_type": "code",
   "execution_count": 71,
   "metadata": {},
   "outputs": [
    {
     "name": "stdout",
     "output_type": "stream",
     "text": [
      "[10, 20, 30, 40, 50]\n"
     ]
    }
   ],
   "source": [
    "# using lambda to print table of 10\n",
    "numbers = []\n",
    "\n",
    "for i in range(1, 6):\n",
    "    numbers.append(i*10)\n",
    "\n",
    "print(numbers)\n",
    "\n"
   ]
  },
  {
   "cell_type": "code",
   "execution_count": 72,
   "metadata": {},
   "outputs": [
    {
     "name": "stdout",
     "output_type": "stream",
     "text": [
      "[10, 20, 30, 40, 50]\n"
     ]
    }
   ],
   "source": [
    "numbers= [i*10 for i in range(1,6)]\n",
    "\n",
    "print(numbers)"
   ]
  },
  {
   "cell_type": "markdown",
   "metadata": {},
   "source": [
    "### Conditionals in List Comprehension\n",
    "We can also add conditional statements to the list comprehension. We can create a list using range(), operators, etc. and cal also apply some conditions to the list using the if statement.\n",
    "\n",
    "Below are some examples which depict the use of list comprehensions rather than the traditional approach to iterate through iterables:\n",
    "\n",
    "Example 1: Display square of numbers from 1 to 10.\n",
    "\n"
   ]
  },
  {
   "cell_type": "code",
   "execution_count": 73,
   "metadata": {},
   "outputs": [
    {
     "name": "stdout",
     "output_type": "stream",
     "text": [
      "[4, 16, 36, 64, 100]\n"
     ]
    }
   ],
   "source": [
    "# Getting square of even numbers from 1 to 10\n",
    "squares = [n**2 for n in range(1, 11) if n%2==0]\n",
    "\n",
    "# Display square of even numbers\n",
    "print(squares)\n",
    "\n"
   ]
  },
  {
   "cell_type": "code",
   "execution_count": 74,
   "metadata": {},
   "outputs": [
    {
     "data": {
      "text/plain": [
       "{'hello': 5, 'goodbye': 7, 'the': 3, 'antidisestablishmentarianism': 28}"
      ]
     },
     "execution_count": 74,
     "metadata": {},
     "output_type": "execute_result"
    }
   ],
   "source": [
    "words = ['hello', 'goodbye', 'the', 'antidisestablishmentarianism']\n",
    "word_lengths = {word:len(word) for word in words} # dictionary comprehension\n",
    "word_lengths"
   ]
  }
 ],
 "metadata": {
  "kernelspec": {
   "display_name": "Python 3",
   "language": "python",
   "name": "python3"
  },
  "language_info": {
   "codemirror_mode": {
    "name": "ipython",
    "version": 3
   },
   "file_extension": ".py",
   "mimetype": "text/x-python",
   "name": "python",
   "nbconvert_exporter": "python",
   "pygments_lexer": "ipython3",
   "version": "3.6.8"
  }
 },
 "nbformat": 4,
 "nbformat_minor": 4
}
